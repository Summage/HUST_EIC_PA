{
 "cells": [
  {
   "cell_type": "code",
   "execution_count": 1,
   "metadata": {
    "pycharm": {
     "name": "#%%\n"
    }
   },
   "outputs": [],
   "source": [
    "import numpy as np\n",
    "import random\n",
    "from concurrent import futures\n",
    "from functools import partial"
   ]
  },
  {
   "cell_type": "code",
   "execution_count": 2,
   "metadata": {
    "pycharm": {
     "name": "#%%\n"
    }
   },
   "outputs": [],
   "source": [
    "class FlipSimulation:\n",
    "    def __init__(self):\n",
    "        self.stateVal = dict([('HHH', 7), ('HHT', 6), ('HTH', 5), ('HTT', 4), ('THH', 3), ('THT', 2), ('TTH', 1), ('TTT', 0)])\n",
    "\n",
    "    def setSeed(self, seed):\n",
    "        np.random.seed(seed)\n",
    "\n",
    "    def simulate(self, x:str, y:str, times=2000):\n",
    "        res = [0, 0]\n",
    "        sim = partial(self._sim, x=self.stateVal[x], y=self.stateVal[y])\n",
    "        for i in range(times):\n",
    "            res[sim()] += 1\n",
    "        return res\n",
    "\n",
    "    def _sim(self, x:int, y:int):\n",
    "        mem = np.array([-10, 2 if np.random.rand()>0.5 else 0, 1 if np.random.rand() > 0.5 else 0])\n",
    "        while True:\n",
    "            mem[0] = 2*mem[1]\n",
    "            mem[1] = 2*mem[2]\n",
    "            mem[2] = 1 if np.random.rand() > 0.5 else 0\n",
    "            num = np.sum(mem)\n",
    "            assert(mem[0] == 0 or mem[0] == 4)\n",
    "            assert(mem[1] == 2 or mem[1] == 0)\n",
    "            if num == x and num != y:\n",
    "                return 0\n",
    "            elif num != x and num == y:\n",
    "                return 1\n",
    "model = FlipSimulation()"
   ]
  },
  {
   "cell_type": "code",
   "execution_count": 3,
   "metadata": {
    "pycharm": {
     "name": "#%%\n"
    }
   },
   "outputs": [],
   "source": [
    "def cal(x, y):\n",
    "    res = model.simulate(x,y)\n",
    "    print(x, y, res, res[0]/res[1], res[1]/res[0])"
   ]
  },
  {
   "cell_type": "code",
   "execution_count": 4,
   "metadata": {
    "pycharm": {
     "name": "#%%\n"
    }
   },
   "outputs": [
    {
     "name": "stdout",
     "output_type": "stream",
     "text": [
      "HHH THH [248, 1752] 0.1415525114155251 7.064516129032258\n",
      "HHT HTH [1337, 663] 2.0165912518853695 0.49588631264023936\n",
      "HHT HTT [1312, 688] 1.9069767441860466 0.524390243902439\n",
      "HHT THH [519, 1481] 0.350438892640108 2.8535645472061657\n",
      "HTT TTT [1727, 273] 6.326007326007326 0.1580775911986103\n",
      "HTT TTH [1487, 513] 2.898635477582846 0.3449899125756557\n",
      "TTH THT [1345, 655] 2.053435114503817 0.48698884758364314\n",
      "TTH THH [1336, 664] 2.0120481927710845 0.49700598802395207\n"
     ]
    }
   ],
   "source": [
    "s = ['TTT', 'TTH', 'THT', 'THH', 'HTT', 'HTH', 'HHT', 'HHH']\n",
    "cal(s[7], s[3])\n",
    "cal(s[6], s[5])\n",
    "cal(s[6], s[4])\n",
    "cal(s[6], s[3])\n",
    "cal(s[4], s[0])\n",
    "cal(s[4], s[1])\n",
    "cal(s[1], s[2])\n",
    "cal(s[1], s[3])"
   ]
  },
  {
   "cell_type": "code",
   "execution_count": 5,
   "metadata": {
    "pycharm": {
     "name": "#%%\n"
    }
   },
   "outputs": [
    {
     "data": {
      "text/plain": [
       "array([0., 1.])"
      ]
     },
     "execution_count": 5,
     "metadata": {},
     "output_type": "execute_result"
    }
   ],
   "source": [
    "x = [[0, 0], [1, 1]]\n",
    "y = [0.4, 0.6]\n",
    "np.einsum('ij,j->i', x, y)"
   ]
  },
  {
   "cell_type": "code",
   "execution_count": 6,
   "metadata": {
    "pycharm": {
     "name": "#%%\n"
    }
   },
   "outputs": [],
   "source": [
    "def RandomWalk(edges, d, epsilon):\n",
    "    assert (1 >= d >= 0)\n",
    "    M = np.zeros([len(edges), len(edges)])\n",
    "    plus = np.ones(len(edges)) * (1-d)\n",
    "    R = np.ones(len(edges))\n",
    "    for i in range(len(edges)):\n",
    "        num = len(edges[i])\n",
    "        if num == 0:\n",
    "            M[i][i] = 0#1\n",
    "        else:\n",
    "            p = 1/num\n",
    "            for v in edges[i]:\n",
    "                M[v][i] = p\n",
    "    dM = d*M\n",
    "    print(M)\n",
    "    delta = 2 + epsilon\n",
    "    counter = 0\n",
    "    while delta > epsilon:\n",
    "        tmp = np.einsum('ij,j->i', dM, R) + plus\n",
    "        delta = np.sum(np.abs(tmp - R))\n",
    "        R = tmp\n",
    "        counter += 1\n",
    "    print(counter)\n",
    "    return R, M, np.einsum('ij,j->i', dM, R) + plus"
   ]
  },
  {
   "cell_type": "code",
   "execution_count": 7,
   "metadata": {
    "pycharm": {
     "name": "#%%\n"
    }
   },
   "outputs": [
    {
     "name": "stdout",
     "output_type": "stream",
     "text": [
      "[[0.  0.  1.  0.  0.  0. ]\n",
      " [0.  0.  0.  0.5 0.  0. ]\n",
      " [0.  0.5 0.  0.  0.  1. ]\n",
      " [0.  0.  0.  0.  1.  0. ]\n",
      " [0.  0.5 0.  0.5 0.  0. ]\n",
      " [0.  0.  0.  0.  0.  0. ]]\n",
      "128\n"
     ]
    },
    {
     "data": {
      "text/plain": [
       "(array([0.54501392, 0.44052296, 0.46472226, 0.68358344, 0.62774522,\n",
       "        0.15      ]),\n",
       " array([[0. , 0. , 1. , 0. , 0. , 0. ],\n",
       "        [0. , 0. , 0. , 0.5, 0. , 0. ],\n",
       "        [0. , 0.5, 0. , 0. , 0. , 1. ],\n",
       "        [0. , 0. , 0. , 0. , 1. , 0. ],\n",
       "        [0. , 0.5, 0. , 0.5, 0. , 0. ],\n",
       "        [0. , 0. , 0. , 0. , 0. , 0. ]]),\n",
       " array([0.54501392, 0.44052296, 0.46472226, 0.68358344, 0.62774522,\n",
       "        0.15      ]))"
      ]
     },
     "execution_count": 7,
     "metadata": {},
     "output_type": "execute_result"
    }
   ],
   "source": [
    "vertex = [[], [2, 4], [0], [1, 4], [3], [2]]\n",
    "RandomWalk(vertex, 0.85, 1e-20)"
   ]
  },
  {
   "cell_type": "code",
   "execution_count": 8,
   "metadata": {
    "pycharm": {
     "name": "#%%\n"
    }
   },
   "outputs": [
    {
     "name": "stdout",
     "output_type": "stream",
     "text": [
      "[[0. 1. 1. 0. 0. 0. 0. 0.]\n",
      " [0. 0. 0. 1. 1. 0. 0. 0.]\n",
      " [0. 0. 0. 0. 0. 1. 1. 1.]\n",
      " [0. 0. 0. 0. 0. 0. 0. 0.]\n",
      " [0. 0. 0. 0. 0. 0. 0. 0.]\n",
      " [0. 0. 0. 0. 0. 0. 0. 0.]\n",
      " [0. 0. 0. 0. 0. 0. 0. 0.]\n",
      " [0. 0. 0. 0. 0. 0. 0. 0.]]\n",
      "4\n"
     ]
    },
    {
     "data": {
      "text/plain": [
       "(array([0.946875, 0.405   , 0.5325  , 0.15    , 0.15    , 0.15    ,\n",
       "        0.15    , 0.15    ]),\n",
       " array([[0., 1., 1., 0., 0., 0., 0., 0.],\n",
       "        [0., 0., 0., 1., 1., 0., 0., 0.],\n",
       "        [0., 0., 0., 0., 0., 1., 1., 1.],\n",
       "        [0., 0., 0., 0., 0., 0., 0., 0.],\n",
       "        [0., 0., 0., 0., 0., 0., 0., 0.],\n",
       "        [0., 0., 0., 0., 0., 0., 0., 0.],\n",
       "        [0., 0., 0., 0., 0., 0., 0., 0.],\n",
       "        [0., 0., 0., 0., 0., 0., 0., 0.]]),\n",
       " array([0.946875, 0.405   , 0.5325  , 0.15    , 0.15    , 0.15    ,\n",
       "        0.15    , 0.15    ]))"
      ]
     },
     "execution_count": 8,
     "metadata": {},
     "output_type": "execute_result"
    }
   ],
   "source": [
    "vertex = [[],[0], [0], [1], [1], [2], [2], [2]]\n",
    "RandomWalk(vertex, 0.85, 1e-20)"
   ]
  },
  {
   "cell_type": "code",
   "execution_count": null,
   "metadata": {},
   "outputs": [
    {
     "name": "stdout",
     "output_type": "stream",
     "text": [
      "[[0.         0.         0.         0.         0.         0.\n",
      "  0.33333333 0.        ]\n",
      " [0.5        0.         0.5        0.33333333 0.         0.\n",
      "  0.         0.        ]\n",
      " [0.5        0.         0.         0.         0.         0.\n",
      "  0.         0.        ]\n",
      " [0.         1.         0.         0.         0.         0.\n",
      "  0.         0.        ]\n",
      " [0.         0.         0.5        0.33333333 0.         0.\n",
      "  0.33333333 0.        ]\n",
      " [0.         0.         0.         0.33333333 0.33333333 0.\n",
      "  0.         0.5       ]\n",
      " [0.         0.         0.         0.         0.33333333 0.\n",
      "  0.         0.5       ]\n",
      " [0.         0.         0.         0.         0.33333333 1.\n",
      "  0.33333333 0.        ]]\n"
     ]
    }
   ],
   "source": [
    "vertex =\n",
    "a, b, c = RandomWalk(vertex, , 1e-20)\n",
    "a"
   ]
  },
  {
   "cell_type": "code",
   "execution_count": null,
   "metadata": {},
   "outputs": [],
   "source": [
    "print(a)"
   ]
  }
 ],
 "metadata": {
  "kernelspec": {
   "display_name": "Python 3 (ipykernel)",
   "language": "python",
   "name": "python3"
  },
  "language_info": {
   "codemirror_mode": {
    "name": "ipython",
    "version": 3
   },
   "file_extension": ".py",
   "mimetype": "text/x-python",
   "name": "python",
   "nbconvert_exporter": "python",
   "pygments_lexer": "ipython3",
   "version": "3.9.7"
  }
 },
 "nbformat": 4,
 "nbformat_minor": 1
}