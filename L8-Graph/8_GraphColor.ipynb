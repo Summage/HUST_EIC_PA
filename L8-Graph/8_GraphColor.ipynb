{
 "cells": [
  {
   "cell_type": "code",
   "execution_count": 10,
   "metadata": {
    "collapsed": true
   },
   "outputs": [],
   "source": [
    "import numpy as np\n",
    "from collections import defaultdict\n",
    "from copy import deepcopy as copy\n",
    "import networkx as nx"
   ]
  },
  {
   "cell_type": "code",
   "execution_count": 11,
   "outputs": [],
   "source": [
    "class Edge:\n",
    "    def __init__(self, index:int =-1, symbol:str ='', degree:int=0, color: int=0,):\n",
    "        self.index = index\n",
    "        self.symbol = symbol\n",
    "        self.color = color\n",
    "        self.degree = degree\n",
    "\n",
    "    def __gt__(self, other):\n",
    "        try:\n",
    "            return self.degree > other.degree\n",
    "        except:\n",
    "            return self.degree > other\n",
    "\n",
    "    def __lt__(self, other):\n",
    "        try:\n",
    "            return self.degree < other.degree\n",
    "        except:\n",
    "            return self.degree < other\n",
    "\n",
    "    def __eq__(self, other):\n",
    "        try:\n",
    "            return self.degree == other.degree\n",
    "        except:\n",
    "            return self.degree == other\n",
    "\n",
    "class Vertex:\n",
    "    def __init__(self, start, end, val=1):\n",
    "        self.start = start\n",
    "        self.end = end\n",
    "        self.val = val\n",
    "\n",
    "    def __gt__(self, other):\n",
    "        try:\n",
    "            return self.val > other.degree\n",
    "        except:\n",
    "            return self.val > other\n",
    "\n",
    "    def __lt__(self, other):\n",
    "        try:\n",
    "            return self.val < other.degree\n",
    "        except:\n",
    "            return self.val < other\n",
    "\n",
    "    def __eq__(self, other):\n",
    "        try:\n",
    "            return self.val == other.degree\n",
    "        except:\n",
    "            return self.val == other"
   ],
   "metadata": {
    "collapsed": false,
    "pycharm": {
     "name": "#%%\n"
    }
   }
  },
  {
   "cell_type": "code",
   "execution_count": 12,
   "outputs": [],
   "source": [
    "class GraphMatrix:\n",
    "    \"\"\"\n",
    "    通过传入结点symbol列表和以（起始节点symbol,终止节点symbol,权值）为元素的边列表来创建图\n",
    "    \"\"\"\n",
    "    def __init__(self, edges=None, vertex=None, directed=False):\n",
    "        self.directed = directed\n",
    "        if edges is not None and vertex is not None:\n",
    "            self.set(edges, vertex, directed)\n",
    "        else:\n",
    "            self.edges = []\n",
    "            self.edgeNum = 0\n",
    "            self.vertex = []\n",
    "            self.vertexNum = 0\n",
    "            self.matrix = [[]]\n",
    "            self._symbol2index = None\n",
    "        self.colorNum = 0\n",
    "        self.coloredEdges = defaultdict(lambda : [])\n",
    "\n",
    "    def __len__(self):\n",
    "        return self.edgeNum\n",
    "\n",
    "    def set(self, edges, vertex, directed=False):\n",
    "        self.directed = directed\n",
    "\n",
    "        self.edges = [Edge(index=i, symbol=sym) for i, sym in enumerate(edges)]\n",
    "        self.edgeNum = len(edges)\n",
    "        self._symbol2index = dict([(sym, i) for i, sym in enumerate(edges)])\n",
    "\n",
    "        self.vertex = [Vertex(self._symbol2index[v[0]], self._symbol2index[v[1]], v[2]) for v in vertex]\n",
    "        self.vertexNum = len(self.vertex)\n",
    "\n",
    "        self.matrix = np.zeros([len(self.edges), len(self.edges)], dtype=int)\n",
    "        self.matrix = [[] for _ in range(len(self.edges))]\n",
    "\n",
    "        if self.directed:\n",
    "            for v in self.vertex:\n",
    "                self.matrix[v.start].append(v)\n",
    "                self.edges[v.start].degree += 1\n",
    "        if not self.directed:\n",
    "            for v in self.vertex:\n",
    "                self.matrix[v.end].append(v)\n",
    "                self.edges[v.end].degree += 1\n",
    "\n",
    "    def symbol2index(self, symbol):\n",
    "        try:\n",
    "            return self._symbol2index[symbol]\n",
    "        except:\n",
    "            return -1\n",
    "\n",
    "    def index2symbol(self, index):\n",
    "        if index < self.edgeNum:\n",
    "            return self.edges[index].symbol\n",
    "        else:\n",
    "            return ''\n",
    "\n",
    "    def isConnected(self, x, y):\n",
    "        if x < self.edgeNum and y < self.edgeNum:\n",
    "            if y in self.matrix[x]:\n",
    "                return y.val\n",
    "        else:\n",
    "            return False\n",
    "\n",
    "    def isColored(self, index):\n",
    "        if isinstance(index, str):\n",
    "            try:\n",
    "                index = int(index)\n",
    "            except:\n",
    "                return False\n",
    "        if isinstance(index, int) and index < len(self):\n",
    "            return self.edges[index].color != 0\n",
    "        else:\n",
    "            return False\n",
    "\n",
    "    def color(self):\n",
    "        self.coloredEdges.clear()\n",
    "        edges = sorted(self.edges, reverse=True)\n",
    "        index = np.array([True for i in range(self.edgeNum)])\n",
    "        self.colorNum = 0\n",
    "        color = self.colorNum\n",
    "        while len(edges) > 0:\n",
    "            color += 1\n",
    "            tar = edges[0]\n",
    "            tar.color = color\n",
    "            index[0] = False\n",
    "            self.coloredEdges[color].append(tar.index)\n",
    "            for e in self.matrix[tar.index]:\n",
    "                self.edges[e.index].color = color\n",
    "                index[e.index] = False\n",
    "                self.coloredEdges[color].append(e.index)\n",
    "            edges = edges[index]\n",
    "            index = index[index]\n",
    "        self.colorNum = color\n",
    "\n",
    "    def showColor(self):\n",
    "        for i in range(1, self.colorNum + 1):\n",
    "            print('color',str(i),':')\n",
    "            for e in self.coloredEdges[i]:\n",
    "                print(self.index2symbol(e.index))"
   ],
   "metadata": {
    "collapsed": false,
    "pycharm": {
     "name": "#%%\n"
    }
   }
  },
  {
   "cell_type": "code",
   "execution_count": 39,
   "outputs": [],
   "source": [
    "def getPathLen(graph, path):\n",
    "    path_len = 0\n",
    "    for i in path:\n",
    "        path_len += graph._adj[i[0]][i[1]]['weight']\n",
    "    return path_len"
   ],
   "metadata": {
    "collapsed": false,
    "pycharm": {
     "name": "#%%\n"
    }
   }
  },
  {
   "cell_type": "code",
   "execution_count": 32,
   "outputs": [],
   "source": [
    "\"\"\"问题1\"\"\"\n",
    "edges = 'a b c d e f g h i j k l m'.split()\n",
    "vertex = [('a', 'd', 1), ('a', 'b', 4), ('a', 'c', 3), ('a', 'e', 1),\n",
    "          ('b', 'd', 4), ('b', 'f', 3), ('b', 'c', 5),\n",
    "          ('c', 'g', 1), ('c', 'm', 2),\n",
    "          ('d', 'f', 2), ('d', 'h', 6),\n",
    "          ('e', 'f', 4), ('e', 'k', 6), ('e', 'h', 3),\n",
    "          ('f', 'g', 3), ('f', 'i', 4), ('f', 'l', 3),\n",
    "          ('g', 'j', 4), ('g', 'm', 1),\n",
    "          ('h', 'k', 3), ('h', 'l', 1),\n",
    "          ('i', 'j', 6), ('i', 'l', 3),\n",
    "          ('j', 'l', 4), ('j', 'm', 2),\n",
    "          ('k', 'l', 3), ('k', 'i', 3),\n",
    "          ('l', 'm', 5)]\n",
    "graph = nx.Graph()\n",
    "graph.add_nodes_from(edges)\n",
    "graph.add_weighted_edges_from(vertex)"
   ],
   "metadata": {
    "collapsed": false,
    "pycharm": {
     "name": "#%%\n"
    }
   }
  },
  {
   "cell_type": "code",
   "execution_count": 40,
   "outputs": [
    {
     "name": "stdout",
     "output_type": "stream",
     "text": [
      "True\n",
      "[('a', 'e'), ('e', 'k'), ('k', 'l'), ('l', 'm'), ('m', 'j'), ('j', 'l'), ('l', 'i'), ('i', 'k'), ('k', 'h'), ('h', 'l'), ('l', 'f'), ('f', 'i'), ('i', 'j'), ('j', 'g'), ('g', 'm'), ('m', 'c'), ('c', 'g'), ('g', 'f'), ('f', 'e'), ('e', 'h'), ('h', 'd'), ('d', 'f'), ('f', 'b'), ('b', 'c'), ('c', 'a'), ('a', 'b'), ('b', 'd'), ('d', 'a')]\n",
      "路径数 28\n",
      "总长度 90\n"
     ]
    }
   ],
   "source": [
    "nx.spring_layout(graph)\n",
    "print(nx.is_eulerian(graph))\n",
    "euler = list(nx.eulerian_circuit(graph, ))\n",
    "print(euler)\n",
    "print('路径数', len(euler))\n",
    "print('总长度', getPathLen(graph, euler))"
   ],
   "metadata": {
    "collapsed": false,
    "pycharm": {
     "name": "#%%\n"
    }
   }
  },
  {
   "cell_type": "code",
   "execution_count": 42,
   "outputs": [
    {
     "name": "stdout",
     "output_type": "stream",
     "text": [
      "以指定节点 f 为起始的路径为 [('f', 'i'), ('i', 'k'), ('k', 'l'), ('l', 'm'), ('m', 'j'), ('j', 'l'), ('l', 'i'), ('i', 'j'), ('j', 'g'), ('g', 'm'), ('m', 'c'), ('c', 'g'), ('g', 'f'), ('f', 'l'), ('l', 'h'), ('h', 'k'), ('k', 'e'), ('e', 'h'), ('h', 'd'), ('d', 'f'), ('f', 'e'), ('e', 'a'), ('a', 'c'), ('c', 'b'), ('b', 'd'), ('d', 'a'), ('a', 'b'), ('b', 'f')]\n",
      "路径数 28\n",
      "总长度 90\n"
     ]
    }
   ],
   "source": [
    "start = 'f'\n",
    "euler = list(nx.eulerian_circuit(graph, start))\n",
    "print('以指定节点', start, '为起始的路径为', euler)\n",
    "print('路径数', len(euler))\n",
    "print('总长度', getPathLen(graph, euler))"
   ],
   "metadata": {
    "collapsed": false,
    "pycharm": {
     "name": "#%%\n"
    }
   }
  },
  {
   "cell_type": "code",
   "execution_count": 6,
   "outputs": [],
   "source": [
    "class Team:\n",
    "    def __init__(self, posNum, person):\n",
    "        self.posNum = posNum\n",
    "        self.personName = copy([p[0] for p in person])\n",
    "        self.person = [[i, p[1]] for i,p in enumerate(person)]\n",
    "        self.candidate = [[] for i in range(posNum)]\n",
    "        for i in range(len(self.person)):\n",
    "            self.checkin(self.candidate, i)\n",
    "        self.final = []\n",
    "\n",
    "    def gen(self):\n",
    "        final = []\n",
    "        self._gen(copy(self.candidate), final)\n",
    "        return final\n",
    "\n",
    "    def checkout(self, candidate, pIndex):\n",
    "        person = self.person[pIndex]\n",
    "        for p in person[1]:\n",
    "            candidate[p].remove(pIndex)\n",
    "\n",
    "    def checkin(self, candidate, pIndex):\n",
    "        person = self.person[pIndex]\n",
    "        for p in person[1]:\n",
    "            candidate[p].append(pIndex)\n",
    "\n",
    "    def _gen(self, candidate, final):\n",
    "        for c in candidate[len(final):]:\n",
    "            if len(c) == 0:\n",
    "                return None\n",
    "        if len(final) == len(candidate):\n",
    "            self.final.append(copy(final))\n",
    "        else:\n",
    "            tmpC = copy(candidate[len(final)])\n",
    "            for per in tmpC:\n",
    "                final.append(per)\n",
    "                self.checkout(candidate, per)\n",
    "                self._gen(candidate, final)\n",
    "                self.checkin(candidate, per)\n",
    "                final.pop(-1)\n",
    "\n",
    "    def show(self):\n",
    "        for team in self.final:\n",
    "            print([[i+1, self.personName[p]]for i,p in enumerate(team)])"
   ],
   "metadata": {
    "collapsed": false,
    "pycharm": {
     "name": "#%%\n"
    }
   }
  },
  {
   "cell_type": "code",
   "execution_count": 7,
   "outputs": [
    {
     "name": "stdout",
     "output_type": "stream",
     "text": [
      "[[1, 'Allen'], [2, 'Chris'], [3, 'Head'], [4, 'Gale'], [5, 'Doug']]\n",
      "[[1, 'Allen'], [2, 'Eric'], [3, 'Head'], [4, 'Gale'], [5, 'Doug']]\n",
      "[[1, 'Bob'], [2, 'Chris'], [3, 'Head'], [4, 'Gale'], [5, 'Doug']]\n",
      "[[1, 'Bob'], [2, 'Eric'], [3, 'Head'], [4, 'Gale'], [5, 'Doug']]\n",
      "[[1, 'Bob'], [2, 'Allen'], [3, 'Head'], [4, 'Gale'], [5, 'Doug']]\n",
      "[[1, 'Chris'], [2, 'Eric'], [3, 'Head'], [4, 'Gale'], [5, 'Doug']]\n",
      "[[1, 'Chris'], [2, 'Allen'], [3, 'Head'], [4, 'Gale'], [5, 'Doug']]\n",
      "[[1, 'Fred'], [2, 'Eric'], [3, 'Head'], [4, 'Gale'], [5, 'Doug']]\n",
      "[[1, 'Fred'], [2, 'Allen'], [3, 'Head'], [4, 'Gale'], [5, 'Doug']]\n",
      "[[1, 'Fred'], [2, 'Chris'], [3, 'Head'], [4, 'Gale'], [5, 'Doug']]\n",
      "10\n"
     ]
    }
   ],
   "source": [
    "personName = 'Allen Bob Chris Doug Eric Fred Gale Head'.split()\n",
    "person = [[personName[0], [0, 1]], [personName[1], [0]], [personName[2], [0,1]], [personName[3], [2,3,4]], [personName[4], [1]], [personName[5], [0]], [personName[6], [2,3]], [personName[7], [1,2]]]\n",
    "team = Team(5, person)\n",
    "team.gen()\n",
    "team.show()\n",
    "print(len(team.final))"
   ],
   "metadata": {
    "collapsed": false,
    "pycharm": {
     "name": "#%%\n"
    }
   }
  },
  {
   "cell_type": "code",
   "execution_count": 8,
   "outputs": [],
   "source": [
    "class Man:\n",
    "    def __init__(self, index, pref, gen):\n",
    "        self.pref = pref\n",
    "        self.index = index\n",
    "        self.couple = None\n",
    "        self.cRank = np.inf\n",
    "        self.gen = gen\n",
    "\n",
    "def coupling(men, women):\n",
    "    last_rank = len(men)\n",
    "    for i in range(len(women)):\n",
    "        for m in men:\n",
    "            if m.couple is None:\n",
    "                w = women[m.pref[i]-1]\n",
    "                rank = w.pref.index(m.index+1)\n",
    "                if rank < w.cRank:\n",
    "                    if w.couple is not None:\n",
    "                        w.couple.couple = None\n",
    "                    w.couple = m\n",
    "                    w.cRank = rank\n",
    "                    m.couple = w"
   ],
   "metadata": {
    "collapsed": false,
    "pycharm": {
     "name": "#%%\n"
    }
   }
  },
  {
   "cell_type": "code",
   "execution_count": 9,
   "outputs": [
    {
     "name": "stdout",
     "output_type": "stream",
     "text": [
      "couple: 0 0\n",
      "couple: 4 1\n",
      "couple: 5 2\n",
      "couple: 6 3\n",
      "couple: 2 4\n",
      "couple: 7 5\n",
      "couple: 3 6\n",
      "couple: 1 7\n"
     ]
    }
   ],
   "source": [
    "men = [[8,6,4,5,1,7,3,2],\n",
    "       [8,2,3,1,6,5,4,7],\n",
    "       [5,2,1,7,6,8,3,4],\n",
    "       [7,6,3,8,5,4,1,2],\n",
    "       [4,6,2,7,3,8,5,1],\n",
    "       [4,5,8,6,3,7,1,2],\n",
    "       [5,2,6,4,8,7,1,3],\n",
    "       [6,1,4,3,8,7,2,5]]\n",
    "men = [Man(i, men[i], 1) for i in range(len(men))]\n",
    "women = [[4,3,8,1,5,2,6,7],\n",
    "         [3,5,7,4,2,8,1,6],\n",
    "         [8,1,3,7,2,4,5,6],\n",
    "         [7,3,1,8,5,2,4,6],\n",
    "         [3,7,1,8,4,5,6,2],\n",
    "         [8,7,5,1,6,3,2,4],\n",
    "         [4,7,8,3,2,6,5,1],\n",
    "         [8,2,4,5,3,6,1,7]]\n",
    "women = [Man(i, women[i], 0) for i in range(len(men))]\n",
    "coupling(men, women)\n",
    "for w in women:\n",
    "    print('couple:', str(w.couple.index), str(w.index))"
   ],
   "metadata": {
    "collapsed": false,
    "pycharm": {
     "name": "#%%\n"
    }
   }
  }
 ],
 "metadata": {
  "kernelspec": {
   "display_name": "Python 3",
   "language": "python",
   "name": "python3"
  },
  "language_info": {
   "codemirror_mode": {
    "name": "ipython",
    "version": 2
   },
   "file_extension": ".py",
   "mimetype": "text/x-python",
   "name": "python",
   "nbconvert_exporter": "python",
   "pygments_lexer": "ipython2",
   "version": "2.7.6"
  }
 },
 "nbformat": 4,
 "nbformat_minor": 0
}